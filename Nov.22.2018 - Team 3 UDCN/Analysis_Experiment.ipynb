{
 "cells": [
  {
   "cell_type": "markdown",
   "metadata": {},
   "source": [
    "# Team 03 - UDCN\n",
    "### Date Experiment: 16.30 - Nov.21,2018 - Date Analysis: 23.11 - Nov.21,2018"
   ]
  },
  {
   "cell_type": "code",
   "execution_count": 2,
   "metadata": {},
   "outputs": [],
   "source": [
    "import pandas as pd\n",
    "import numpy as np\n",
    "import seaborn as sn\n",
    "import matplotlib.pylab as plt\n",
    "import statsmodels.formula.api as smf"
   ]
  },
  {
   "cell_type": "code",
   "execution_count": 19,
   "metadata": {},
   "outputs": [
    {
     "data": {
      "text/html": [
       "<div>\n",
       "<style scoped>\n",
       "    .dataframe tbody tr th:only-of-type {\n",
       "        vertical-align: middle;\n",
       "    }\n",
       "\n",
       "    .dataframe tbody tr th {\n",
       "        vertical-align: top;\n",
       "    }\n",
       "\n",
       "    .dataframe thead th {\n",
       "        text-align: right;\n",
       "    }\n",
       "</style>\n",
       "<table border=\"1\" class=\"dataframe\">\n",
       "  <thead>\n",
       "    <tr style=\"text-align: right;\">\n",
       "      <th></th>\n",
       "      <th>Solution</th>\n",
       "      <th>Mass</th>\n",
       "      <th>Volume</th>\n",
       "      <th>N1</th>\n",
       "      <th>N2</th>\n",
       "      <th>N3</th>\n",
       "      <th>N</th>\n",
       "      <th>rho</th>\n",
       "      <th>mu</th>\n",
       "    </tr>\n",
       "  </thead>\n",
       "  <tbody>\n",
       "    <tr>\n",
       "      <th>0</th>\n",
       "      <td>Background</td>\n",
       "      <td>0.0000</td>\n",
       "      <td>100</td>\n",
       "      <td>154</td>\n",
       "      <td>135</td>\n",
       "      <td>135</td>\n",
       "      <td>144.5</td>\n",
       "      <td>0.000000</td>\n",
       "      <td>NaN</td>\n",
       "    </tr>\n",
       "    <tr>\n",
       "      <th>1</th>\n",
       "      <td>Source</td>\n",
       "      <td>0.0000</td>\n",
       "      <td>100</td>\n",
       "      <td>3200</td>\n",
       "      <td>3222</td>\n",
       "      <td>3173</td>\n",
       "      <td>3066.5</td>\n",
       "      <td>0.000000</td>\n",
       "      <td>NaN</td>\n",
       "    </tr>\n",
       "    <tr>\n",
       "      <th>2</th>\n",
       "      <td>Salt_Solution</td>\n",
       "      <td>118.2096</td>\n",
       "      <td>100</td>\n",
       "      <td>2123</td>\n",
       "      <td>2062</td>\n",
       "      <td>2030</td>\n",
       "      <td>1948.0</td>\n",
       "      <td>1.182096</td>\n",
       "      <td>0.221333</td>\n",
       "    </tr>\n",
       "    <tr>\n",
       "      <th>3</th>\n",
       "      <td>Sugar_Solution</td>\n",
       "      <td>108.7488</td>\n",
       "      <td>80</td>\n",
       "      <td>2096</td>\n",
       "      <td>2155</td>\n",
       "      <td>2287</td>\n",
       "      <td>1981.0</td>\n",
       "      <td>1.359360</td>\n",
       "      <td>0.213139</td>\n",
       "    </tr>\n",
       "    <tr>\n",
       "      <th>4</th>\n",
       "      <td>Water</td>\n",
       "      <td>98.7284</td>\n",
       "      <td>100</td>\n",
       "      <td>2395</td>\n",
       "      <td>2412</td>\n",
       "      <td>2363</td>\n",
       "      <td>2259.0</td>\n",
       "      <td>0.987284</td>\n",
       "      <td>0.149080</td>\n",
       "    </tr>\n",
       "    <tr>\n",
       "      <th>5</th>\n",
       "      <td>Ethanol</td>\n",
       "      <td>56.5878</td>\n",
       "      <td>73</td>\n",
       "      <td>2563</td>\n",
       "      <td>2585</td>\n",
       "      <td>2634</td>\n",
       "      <td>2429.5</td>\n",
       "      <td>0.775175</td>\n",
       "      <td>0.113586</td>\n",
       "    </tr>\n",
       "    <tr>\n",
       "      <th>6</th>\n",
       "      <td>CocaCola_Solution</td>\n",
       "      <td>104.3418</td>\n",
       "      <td>102</td>\n",
       "      <td>2356</td>\n",
       "      <td>2415</td>\n",
       "      <td>2354</td>\n",
       "      <td>2241.0</td>\n",
       "      <td>1.022959</td>\n",
       "      <td>0.152983</td>\n",
       "    </tr>\n",
       "  </tbody>\n",
       "</table>\n",
       "</div>"
      ],
      "text/plain": [
       "            Solution      Mass  Volume    N1    N2    N3       N       rho        mu\n",
       "0         Background    0.0000     100   154   135   135   144.5  0.000000       NaN\n",
       "1             Source    0.0000     100  3200  3222  3173  3066.5  0.000000       NaN\n",
       "2      Salt_Solution  118.2096     100  2123  2062  2030  1948.0  1.182096  0.221333\n",
       "3     Sugar_Solution  108.7488      80  2096  2155  2287  1981.0  1.359360  0.213139\n",
       "4              Water   98.7284     100  2395  2412  2363  2259.0  0.987284  0.149080\n",
       "5            Ethanol   56.5878      73  2563  2585  2634  2429.5  0.775175  0.113586\n",
       "6  CocaCola_Solution  104.3418     102  2356  2415  2354  2241.0  1.022959  0.152983"
      ]
     },
     "execution_count": 19,
     "metadata": {},
     "output_type": "execute_result"
    }
   ],
   "source": [
    "data=pd.read_csv('Data_Experiment_Nov212018.csv')\n",
    "# Tinh so dem - tru phong\n",
    "data['N']=np.mean(data.loc[:,'N1':'N2'],axis=1)\n",
    "data.loc[1:,'N']=data.loc[1:,'N'] - data.loc[0,'N']\n",
    "# Tinh rho = mass / volume\n",
    "data['rho']=data['Mass']/data['Volume']\n",
    "# Tinh mu = -ln(I/I0) / d\n",
    "d = 2.05 # cm\n",
    "data['mu'] = np.NaN\n",
    "N0=data.loc[1,'N'] # Gia tri I0 \n",
    "data.loc[2:,'mu'] = -np.log(data.loc[2:,'N']/N0)/d\n",
    "data"
   ]
  },
  {
   "cell_type": "code",
   "execution_count": 20,
   "metadata": {},
   "outputs": [
    {
     "data": {
      "text/plain": [
       "Intercept   -0.032493\n",
       "rho          0.192176\n",
       "dtype: float64"
      ]
     },
     "execution_count": 20,
     "metadata": {},
     "output_type": "execute_result"
    }
   ],
   "source": [
    "# Phuong trinh mu = a  + b.rho\n",
    "fit=smf.ols(formula='mu~rho',data=data.loc[2:5,]).fit()\n",
    "fit.params\n",
    "# Result: mu =  -0.037328    + 0.192176 .rho\n",
    "# Phuong trinh chuan he so truyen qua: mu (cm-1) =  -0.037328    + 0.192176 .rho (g/cm3)"
   ]
  },
  {
   "cell_type": "code",
   "execution_count": 25,
   "metadata": {},
   "outputs": [
    {
     "name": "stderr",
     "output_type": "stream",
     "text": [
      "c:\\program files\\python37\\lib\\site-packages\\scipy\\stats\\stats.py:1713: FutureWarning: Using a non-tuple sequence for multidimensional indexing is deprecated; use `arr[tuple(seq)]` instead of `arr[seq]`. In the future this will be interpreted as an array index, `arr[np.array(seq)]`, which will result either in an error or a different result.\n",
      "  return np.add.reduce(sorted[indexer] * weights, axis=axis) / sumval\n"
     ]
    },
    {
     "data": {
      "text/plain": [
       "<matplotlib.legend.Legend at 0x244f4854d30>"
      ]
     },
     "execution_count": 25,
     "metadata": {},
     "output_type": "execute_result"
    },
    {
     "data": {
      "image/png": "[encoded data removed]",
      "text/plain": [
       "<Figure size 432x288 with 1 Axes>"
      ]
     },
     "metadata": {
      "needs_background": "light"
     },
     "output_type": "display_data"
    }
   ],
   "source": [
    "# Ve hinh\n",
    "sn.regplot(x='rho',y='mu',data=data.loc[2:5,],label='OLS')\n",
    "plt.plot(data.loc[6,'rho'],data.loc[6,'mu'],'ro',label='CocaCola')\n",
    "plt.legend()"
   ]
  }
 ],
 "metadata": {
  "kernelspec": {
   "display_name": "Python 3",
   "language": "python",
   "name": "python3"
  },
  "language_info": {
   "codemirror_mode": {
    "name": "ipython",
    "version": 3
   },
   "file_extension": ".py",
   "mimetype": "text/x-python",
   "name": "python",
   "nbconvert_exporter": "python",
   "pygments_lexer": "ipython3",
   "version": "3.7.1"
  }
 },
 "nbformat": 4,
 "nbformat_minor": 2
}
